{
 "cells": [
  {
   "cell_type": "code",
   "execution_count": 1,
   "metadata": {},
   "outputs": [],
   "source": [
    "import geopandas as gpd\n",
    "import pandas as pd"
   ]
  },
  {
   "cell_type": "code",
   "execution_count": 2,
   "metadata": {},
   "outputs": [],
   "source": [
    "precincts_gdf = gpd.read_file(\"DPD_Precincts.geojson\")"
   ]
  },
  {
   "cell_type": "code",
   "execution_count": 3,
   "metadata": {},
   "outputs": [
    {
     "data": {
      "text/html": [
       "<div>\n",
       "<style scoped>\n",
       "    .dataframe tbody tr th:only-of-type {\n",
       "        vertical-align: middle;\n",
       "    }\n",
       "\n",
       "    .dataframe tbody tr th {\n",
       "        vertical-align: top;\n",
       "    }\n",
       "\n",
       "    .dataframe thead th {\n",
       "        text-align: right;\n",
       "    }\n",
       "</style>\n",
       "<table border=\"1\" class=\"dataframe\">\n",
       "  <thead>\n",
       "    <tr style=\"text-align: right;\">\n",
       "      <th></th>\n",
       "      <th>FID</th>\n",
       "      <th>shape_area</th>\n",
       "      <th>folderpath</th>\n",
       "      <th>oid_</th>\n",
       "      <th>popupinfo</th>\n",
       "      <th>name</th>\n",
       "      <th>extruded</th>\n",
       "      <th>clamped</th>\n",
       "      <th>symbolid</th>\n",
       "      <th>snippet</th>\n",
       "      <th>base</th>\n",
       "      <th>altmode</th>\n",
       "      <th>shape_leng</th>\n",
       "      <th>geometry</th>\n",
       "    </tr>\n",
       "  </thead>\n",
       "  <tbody>\n",
       "    <tr>\n",
       "      <th>0</th>\n",
       "      <td>1</td>\n",
       "      <td>0.002958</td>\n",
       "      <td>2015 New Precincts Overlay/2015 Precincts</td>\n",
       "      <td>0</td>\n",
       "      <td>\\n\\n\\n\\n\\n\\n\\n\\n\\n\\n</td>\n",
       "      <td>10</td>\n",
       "      <td>0</td>\n",
       "      <td>-1</td>\n",
       "      <td>0</td>\n",
       "      <td></td>\n",
       "      <td>0</td>\n",
       "      <td>0</td>\n",
       "      <td>0.261169</td>\n",
       "      <td>POLYGON ((-83.15714 42.40481, -83.14373 42.404...</td>\n",
       "    </tr>\n",
       "    <tr>\n",
       "      <th>1</th>\n",
       "      <td>2</td>\n",
       "      <td>0.003420</td>\n",
       "      <td>2015 New Precincts Overlay/2015 Precincts</td>\n",
       "      <td>0</td>\n",
       "      <td>\\n\\n\\n\\n\\n\\n\\n\\n\\n\\n</td>\n",
       "      <td>09</td>\n",
       "      <td>0</td>\n",
       "      <td>-1</td>\n",
       "      <td>0</td>\n",
       "      <td></td>\n",
       "      <td>0</td>\n",
       "      <td>0</td>\n",
       "      <td>0.284669</td>\n",
       "      <td>POLYGON ((-82.94093 42.44949, -82.94491 42.444...</td>\n",
       "    </tr>\n",
       "    <tr>\n",
       "      <th>2</th>\n",
       "      <td>3</td>\n",
       "      <td>0.004253</td>\n",
       "      <td>2015 New Precincts Overlay/2015 Precincts</td>\n",
       "      <td>0</td>\n",
       "      <td>\\n\\n\\n\\n\\n\\n\\n\\n\\n\\n</td>\n",
       "      <td>08</td>\n",
       "      <td>0</td>\n",
       "      <td>-1</td>\n",
       "      <td>0</td>\n",
       "      <td></td>\n",
       "      <td>0</td>\n",
       "      <td>0</td>\n",
       "      <td>0.288777</td>\n",
       "      <td>POLYGON ((-83.19902 42.40876, -83.19817 42.387...</td>\n",
       "    </tr>\n",
       "    <tr>\n",
       "      <th>3</th>\n",
       "      <td>4</td>\n",
       "      <td>0.002927</td>\n",
       "      <td>2015 New Precincts Overlay/2015 Precincts</td>\n",
       "      <td>0</td>\n",
       "      <td>\\n\\n\\n\\n\\n\\n\\n\\n\\n\\n</td>\n",
       "      <td>02</td>\n",
       "      <td>0</td>\n",
       "      <td>-1</td>\n",
       "      <td>0</td>\n",
       "      <td></td>\n",
       "      <td>0</td>\n",
       "      <td>0</td>\n",
       "      <td>0.267274</td>\n",
       "      <td>POLYGON ((-83.17922 42.40391, -83.17914 42.402...</td>\n",
       "    </tr>\n",
       "    <tr>\n",
       "      <th>4</th>\n",
       "      <td>5</td>\n",
       "      <td>0.003123</td>\n",
       "      <td>2015 New Precincts Overlay/2015 Precincts</td>\n",
       "      <td>0</td>\n",
       "      <td>\\n\\n\\n\\n\\n\\n\\n\\n\\n\\n</td>\n",
       "      <td>03</td>\n",
       "      <td>0</td>\n",
       "      <td>-1</td>\n",
       "      <td>0</td>\n",
       "      <td></td>\n",
       "      <td>0</td>\n",
       "      <td>0</td>\n",
       "      <td>0.288419</td>\n",
       "      <td>POLYGON ((-83.07384 42.39873, -83.06880 42.392...</td>\n",
       "    </tr>\n",
       "  </tbody>\n",
       "</table>\n",
       "</div>"
      ],
      "text/plain": [
       "   FID  shape_area                                 folderpath  oid_  \\\n",
       "0    1    0.002958  2015 New Precincts Overlay/2015 Precincts     0   \n",
       "1    2    0.003420  2015 New Precincts Overlay/2015 Precincts     0   \n",
       "2    3    0.004253  2015 New Precincts Overlay/2015 Precincts     0   \n",
       "3    4    0.002927  2015 New Precincts Overlay/2015 Precincts     0   \n",
       "4    5    0.003123  2015 New Precincts Overlay/2015 Precincts     0   \n",
       "\n",
       "              popupinfo name  extruded  clamped  symbolid snippet  base  \\\n",
       "0  \\n\\n\\n\\n\\n\\n\\n\\n\\n\\n   10         0       -1         0             0   \n",
       "1  \\n\\n\\n\\n\\n\\n\\n\\n\\n\\n   09         0       -1         0             0   \n",
       "2  \\n\\n\\n\\n\\n\\n\\n\\n\\n\\n   08         0       -1         0             0   \n",
       "3  \\n\\n\\n\\n\\n\\n\\n\\n\\n\\n   02         0       -1         0             0   \n",
       "4  \\n\\n\\n\\n\\n\\n\\n\\n\\n\\n   03         0       -1         0             0   \n",
       "\n",
       "   altmode  shape_leng                                           geometry  \n",
       "0        0    0.261169  POLYGON ((-83.15714 42.40481, -83.14373 42.404...  \n",
       "1        0    0.284669  POLYGON ((-82.94093 42.44949, -82.94491 42.444...  \n",
       "2        0    0.288777  POLYGON ((-83.19902 42.40876, -83.19817 42.387...  \n",
       "3        0    0.267274  POLYGON ((-83.17922 42.40391, -83.17914 42.402...  \n",
       "4        0    0.288419  POLYGON ((-83.07384 42.39873, -83.06880 42.392...  "
      ]
     },
     "execution_count": 3,
     "metadata": {},
     "output_type": "execute_result"
    }
   ],
   "source": [
    "precincts_gdf.head()"
   ]
  },
  {
   "cell_type": "code",
   "execution_count": 4,
   "metadata": {},
   "outputs": [
    {
     "data": {
      "text/plain": [
       "9"
      ]
     },
     "execution_count": 4,
     "metadata": {},
     "output_type": "execute_result"
    }
   ],
   "source": [
    "int(precincts_gdf.loc[1][\"name\"])"
   ]
  },
  {
   "cell_type": "code",
   "execution_count": 5,
   "metadata": {},
   "outputs": [
    {
     "data": {
      "text/html": [
       "<div>\n",
       "<style scoped>\n",
       "    .dataframe tbody tr th:only-of-type {\n",
       "        vertical-align: middle;\n",
       "    }\n",
       "\n",
       "    .dataframe tbody tr th {\n",
       "        vertical-align: top;\n",
       "    }\n",
       "\n",
       "    .dataframe thead th {\n",
       "        text-align: right;\n",
       "    }\n",
       "</style>\n",
       "<table border=\"1\" class=\"dataframe\">\n",
       "  <thead>\n",
       "    <tr style=\"text-align: right;\">\n",
       "      <th></th>\n",
       "      <th>Post</th>\n",
       "      <th>Pre</th>\n",
       "      <th>pct_change</th>\n",
       "    </tr>\n",
       "    <tr>\n",
       "      <th>precinct</th>\n",
       "      <th></th>\n",
       "      <th></th>\n",
       "      <th></th>\n",
       "    </tr>\n",
       "  </thead>\n",
       "  <tbody>\n",
       "    <tr>\n",
       "      <th>2</th>\n",
       "      <td>270</td>\n",
       "      <td>478</td>\n",
       "      <td>-43.514644</td>\n",
       "    </tr>\n",
       "    <tr>\n",
       "      <th>3</th>\n",
       "      <td>382</td>\n",
       "      <td>408</td>\n",
       "      <td>-6.372549</td>\n",
       "    </tr>\n",
       "    <tr>\n",
       "      <th>4</th>\n",
       "      <td>326</td>\n",
       "      <td>235</td>\n",
       "      <td>38.723404</td>\n",
       "    </tr>\n",
       "    <tr>\n",
       "      <th>5</th>\n",
       "      <td>357</td>\n",
       "      <td>388</td>\n",
       "      <td>-7.989691</td>\n",
       "    </tr>\n",
       "    <tr>\n",
       "      <th>6</th>\n",
       "      <td>491</td>\n",
       "      <td>530</td>\n",
       "      <td>-7.358491</td>\n",
       "    </tr>\n",
       "  </tbody>\n",
       "</table>\n",
       "</div>"
      ],
      "text/plain": [
       "          Post  Pre  pct_change\n",
       "precinct                       \n",
       "2          270  478  -43.514644\n",
       "3          382  408   -6.372549\n",
       "4          326  235   38.723404\n",
       "5          357  388   -7.989691\n",
       "6          491  530   -7.358491"
      ]
     },
     "execution_count": 5,
     "metadata": {},
     "output_type": "execute_result"
    }
   ],
   "source": [
    "changes_df = pd.read_csv(\"weapons_pct_change.csv\").set_index([\"precinct\"])\n",
    "changes_df.head()"
   ]
  },
  {
   "cell_type": "code",
   "execution_count": 6,
   "metadata": {},
   "outputs": [
    {
     "data": {
      "text/plain": [
       "270.0"
      ]
     },
     "execution_count": 6,
     "metadata": {},
     "output_type": "execute_result"
    }
   ],
   "source": [
    "changes_df.loc[2][\"Post\"]"
   ]
  },
  {
   "cell_type": "code",
   "execution_count": 7,
   "metadata": {},
   "outputs": [],
   "source": [
    "def pct_change(row, df):\n",
    "    print(int(row[\"name\"]) ,df.loc[int(row[\"name\"])][\"pct_change\"])\n",
    "    return df.loc[int(row[\"name\"])][\"pct_change\"]"
   ]
  },
  {
   "cell_type": "code",
   "execution_count": 8,
   "metadata": {},
   "outputs": [
    {
     "data": {
      "text/plain": [
       "Post          352.000000\n",
       "Pre           411.000000\n",
       "pct_change    -14.355231\n",
       "Name: 11, dtype: float64"
      ]
     },
     "execution_count": 8,
     "metadata": {},
     "output_type": "execute_result"
    }
   ],
   "source": [
    "changes_df.loc[11]"
   ]
  },
  {
   "cell_type": "code",
   "execution_count": 9,
   "metadata": {},
   "outputs": [
    {
     "name": "stdout",
     "output_type": "stream",
     "text": [
      "10 -11.641791044776118\n",
      "9 21.073825503355707\n",
      "8 -8.87728459530026\n",
      "2 -43.51464435146444\n",
      "3 -6.372549019607843\n",
      "4 38.72340425531915\n",
      "5 -7.989690721649484\n",
      "6 -7.358490566037735\n",
      "11 -14.355231143552311\n",
      "12 -4.1551246537396125\n",
      "7 -16.304347826086957\n",
      "7 -16.304347826086957\n"
     ]
    }
   ],
   "source": [
    "precincts_gdf[\"weapons_pct_change\"] = precincts_gdf.apply(lambda row: pct_change(row, changes_df), axis = 1)"
   ]
  },
  {
   "cell_type": "code",
   "execution_count": 10,
   "metadata": {},
   "outputs": [
    {
     "data": {
      "text/html": [
       "<div>\n",
       "<style scoped>\n",
       "    .dataframe tbody tr th:only-of-type {\n",
       "        vertical-align: middle;\n",
       "    }\n",
       "\n",
       "    .dataframe tbody tr th {\n",
       "        vertical-align: top;\n",
       "    }\n",
       "\n",
       "    .dataframe thead th {\n",
       "        text-align: right;\n",
       "    }\n",
       "</style>\n",
       "<table border=\"1\" class=\"dataframe\">\n",
       "  <thead>\n",
       "    <tr style=\"text-align: right;\">\n",
       "      <th></th>\n",
       "      <th>FID</th>\n",
       "      <th>shape_area</th>\n",
       "      <th>folderpath</th>\n",
       "      <th>oid_</th>\n",
       "      <th>popupinfo</th>\n",
       "      <th>name</th>\n",
       "      <th>extruded</th>\n",
       "      <th>clamped</th>\n",
       "      <th>symbolid</th>\n",
       "      <th>snippet</th>\n",
       "      <th>base</th>\n",
       "      <th>altmode</th>\n",
       "      <th>shape_leng</th>\n",
       "      <th>geometry</th>\n",
       "      <th>weapons_pct_change</th>\n",
       "    </tr>\n",
       "  </thead>\n",
       "  <tbody>\n",
       "    <tr>\n",
       "      <th>0</th>\n",
       "      <td>1</td>\n",
       "      <td>0.002958</td>\n",
       "      <td>2015 New Precincts Overlay/2015 Precincts</td>\n",
       "      <td>0</td>\n",
       "      <td>\\n\\n\\n\\n\\n\\n\\n\\n\\n\\n</td>\n",
       "      <td>10</td>\n",
       "      <td>0</td>\n",
       "      <td>-1</td>\n",
       "      <td>0</td>\n",
       "      <td></td>\n",
       "      <td>0</td>\n",
       "      <td>0</td>\n",
       "      <td>0.261169</td>\n",
       "      <td>POLYGON ((-83.15714 42.40481, -83.14373 42.404...</td>\n",
       "      <td>-11.641791</td>\n",
       "    </tr>\n",
       "    <tr>\n",
       "      <th>1</th>\n",
       "      <td>2</td>\n",
       "      <td>0.003420</td>\n",
       "      <td>2015 New Precincts Overlay/2015 Precincts</td>\n",
       "      <td>0</td>\n",
       "      <td>\\n\\n\\n\\n\\n\\n\\n\\n\\n\\n</td>\n",
       "      <td>09</td>\n",
       "      <td>0</td>\n",
       "      <td>-1</td>\n",
       "      <td>0</td>\n",
       "      <td></td>\n",
       "      <td>0</td>\n",
       "      <td>0</td>\n",
       "      <td>0.284669</td>\n",
       "      <td>POLYGON ((-82.94093 42.44949, -82.94491 42.444...</td>\n",
       "      <td>21.073826</td>\n",
       "    </tr>\n",
       "    <tr>\n",
       "      <th>2</th>\n",
       "      <td>3</td>\n",
       "      <td>0.004253</td>\n",
       "      <td>2015 New Precincts Overlay/2015 Precincts</td>\n",
       "      <td>0</td>\n",
       "      <td>\\n\\n\\n\\n\\n\\n\\n\\n\\n\\n</td>\n",
       "      <td>08</td>\n",
       "      <td>0</td>\n",
       "      <td>-1</td>\n",
       "      <td>0</td>\n",
       "      <td></td>\n",
       "      <td>0</td>\n",
       "      <td>0</td>\n",
       "      <td>0.288777</td>\n",
       "      <td>POLYGON ((-83.19902 42.40876, -83.19817 42.387...</td>\n",
       "      <td>-8.877285</td>\n",
       "    </tr>\n",
       "    <tr>\n",
       "      <th>3</th>\n",
       "      <td>4</td>\n",
       "      <td>0.002927</td>\n",
       "      <td>2015 New Precincts Overlay/2015 Precincts</td>\n",
       "      <td>0</td>\n",
       "      <td>\\n\\n\\n\\n\\n\\n\\n\\n\\n\\n</td>\n",
       "      <td>02</td>\n",
       "      <td>0</td>\n",
       "      <td>-1</td>\n",
       "      <td>0</td>\n",
       "      <td></td>\n",
       "      <td>0</td>\n",
       "      <td>0</td>\n",
       "      <td>0.267274</td>\n",
       "      <td>POLYGON ((-83.17922 42.40391, -83.17914 42.402...</td>\n",
       "      <td>-43.514644</td>\n",
       "    </tr>\n",
       "    <tr>\n",
       "      <th>4</th>\n",
       "      <td>5</td>\n",
       "      <td>0.003123</td>\n",
       "      <td>2015 New Precincts Overlay/2015 Precincts</td>\n",
       "      <td>0</td>\n",
       "      <td>\\n\\n\\n\\n\\n\\n\\n\\n\\n\\n</td>\n",
       "      <td>03</td>\n",
       "      <td>0</td>\n",
       "      <td>-1</td>\n",
       "      <td>0</td>\n",
       "      <td></td>\n",
       "      <td>0</td>\n",
       "      <td>0</td>\n",
       "      <td>0.288419</td>\n",
       "      <td>POLYGON ((-83.07384 42.39873, -83.06880 42.392...</td>\n",
       "      <td>-6.372549</td>\n",
       "    </tr>\n",
       "  </tbody>\n",
       "</table>\n",
       "</div>"
      ],
      "text/plain": [
       "   FID  shape_area                                 folderpath  oid_  \\\n",
       "0    1    0.002958  2015 New Precincts Overlay/2015 Precincts     0   \n",
       "1    2    0.003420  2015 New Precincts Overlay/2015 Precincts     0   \n",
       "2    3    0.004253  2015 New Precincts Overlay/2015 Precincts     0   \n",
       "3    4    0.002927  2015 New Precincts Overlay/2015 Precincts     0   \n",
       "4    5    0.003123  2015 New Precincts Overlay/2015 Precincts     0   \n",
       "\n",
       "              popupinfo name  extruded  clamped  symbolid snippet  base  \\\n",
       "0  \\n\\n\\n\\n\\n\\n\\n\\n\\n\\n   10         0       -1         0             0   \n",
       "1  \\n\\n\\n\\n\\n\\n\\n\\n\\n\\n   09         0       -1         0             0   \n",
       "2  \\n\\n\\n\\n\\n\\n\\n\\n\\n\\n   08         0       -1         0             0   \n",
       "3  \\n\\n\\n\\n\\n\\n\\n\\n\\n\\n   02         0       -1         0             0   \n",
       "4  \\n\\n\\n\\n\\n\\n\\n\\n\\n\\n   03         0       -1         0             0   \n",
       "\n",
       "   altmode  shape_leng                                           geometry  \\\n",
       "0        0    0.261169  POLYGON ((-83.15714 42.40481, -83.14373 42.404...   \n",
       "1        0    0.284669  POLYGON ((-82.94093 42.44949, -82.94491 42.444...   \n",
       "2        0    0.288777  POLYGON ((-83.19902 42.40876, -83.19817 42.387...   \n",
       "3        0    0.267274  POLYGON ((-83.17922 42.40391, -83.17914 42.402...   \n",
       "4        0    0.288419  POLYGON ((-83.07384 42.39873, -83.06880 42.392...   \n",
       "\n",
       "   weapons_pct_change  \n",
       "0          -11.641791  \n",
       "1           21.073826  \n",
       "2           -8.877285  \n",
       "3          -43.514644  \n",
       "4           -6.372549  "
      ]
     },
     "execution_count": 10,
     "metadata": {},
     "output_type": "execute_result"
    }
   ],
   "source": [
    "precincts_gdf.head()"
   ]
  },
  {
   "cell_type": "code",
   "execution_count": 11,
   "metadata": {},
   "outputs": [
    {
     "name": "stdout",
     "output_type": "stream",
     "text": [
      "10 200.0\n",
      "9 -31.57894736842105\n",
      "8 14.285714285714285\n",
      "2 -30.0\n",
      "3 25.0\n",
      "4 0.0\n",
      "5 100.0\n",
      "6 -23.07692307692308\n",
      "11 11.11111111111111\n",
      "12 -18.181818181818183\n",
      "7 33.33333333333333\n",
      "7 33.33333333333333\n"
     ]
    }
   ],
   "source": [
    "assaults_df = pd.read_csv(\"assault_pct_change.csv\").set_index([\"precinct\"])\n",
    "precincts_gdf[\"assaults_pct_change\"] = precincts_gdf.apply(lambda row: pct_change(row, assaults_df), axis = 1)"
   ]
  },
  {
   "cell_type": "code",
   "execution_count": 19,
   "metadata": {},
   "outputs": [
    {
     "data": {
      "text/plain": [
       "0    -11.641791\n",
       "1     21.073826\n",
       "2     -8.877285\n",
       "3    -43.514644\n",
       "4     -6.372549\n",
       "5     38.723404\n",
       "6     -7.989691\n",
       "7     -7.358491\n",
       "8    -14.355231\n",
       "9     -4.155125\n",
       "10   -16.304348\n",
       "11   -16.304348\n",
       "Name: weapons_pct_change, dtype: float64"
      ]
     },
     "execution_count": 19,
     "metadata": {},
     "output_type": "execute_result"
    }
   ],
   "source": [
    "precincts_gdf[\"weapons_pct_change\"]"
   ]
  },
  {
   "cell_type": "code",
   "execution_count": 14,
   "metadata": {},
   "outputs": [],
   "source": [
    "with open('precincts.geojson' , 'w') as file:\n",
    "    file.write(precincts_gdf.to_json())"
   ]
  }
 ],
 "metadata": {
  "kernelspec": {
   "display_name": "Python 3.9.7 ('base')",
   "language": "python",
   "name": "python3"
  },
  "language_info": {
   "codemirror_mode": {
    "name": "ipython",
    "version": 3
   },
   "file_extension": ".py",
   "mimetype": "text/x-python",
   "name": "python",
   "nbconvert_exporter": "python",
   "pygments_lexer": "ipython3",
   "version": "3.9.7"
  },
  "orig_nbformat": 4,
  "vscode": {
   "interpreter": {
    "hash": "819e5878eacaabf9cde125b1705f29562a934f30a6a38ee7cbe81b259781e978"
   }
  }
 },
 "nbformat": 4,
 "nbformat_minor": 2
}
